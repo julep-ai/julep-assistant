{
 "cells": [
  {
   "cell_type": "markdown",
   "metadata": {},
   "source": [
    "## Set up the Julep Client"
   ]
  },
  {
   "cell_type": "code",
   "execution_count": 1,
   "metadata": {},
   "outputs": [],
   "source": [
    "!pip install julep python-dotenv PyYAML --quiet"
   ]
  },
  {
   "cell_type": "code",
   "execution_count": 3,
   "metadata": {},
   "outputs": [],
   "source": [
    "from dotenv import load_dotenv\n",
    "import os\n",
    "from julep import Julep\n",
    "import yaml\n",
    "\n",
    "\n",
    "# Load environment variables from the .env file\n",
    "load_dotenv(override=True)\n",
    "\n",
    "# Get the julep api key from the environment\n",
    "api_key = os.getenv(\"JULEP_API_KEY\")\n",
    "\n",
    "client = Julep(api_key=api_key, environment=\"production\")\n",
    "\n",
    "# Using fixed UUID to avoid creating new agent/task on each notebook run\n",
    "AGENT_UUID = \"ce7be83e-db8b-4ba9-808e-7cade6812e98\"\n",
    "TASK_UUID = \"e623b4dc-9138-440b-a310-b3040764117c\""
   ]
  },
  {
   "cell_type": "markdown",
   "metadata": {},
   "source": [
    "## Create a Julep Agent"
   ]
  },
  {
   "cell_type": "code",
   "execution_count": null,
   "metadata": {},
   "outputs": [],
   "source": [
    "agent_yaml = yaml.safe_load(open(\"./agent.yaml\"))\n",
    "\n",
    "agent = client.agents.create_or_update(\n",
    "    agent_id=AGENT_UUID,\n",
    "    name=agent_yaml[\"name\"],\n",
    "    about=agent_yaml[\"about\"],\n",
    "    instructions=agent_yaml[\"instructions\"],\n",
    "    model=agent_yaml[\"model\"],\n",
    ")"
   ]
  },
  {
   "cell_type": "markdown",
   "metadata": {},
   "source": [
    "## Create a Julep Task"
   ]
  },
  {
   "cell_type": "code",
   "execution_count": 48,
   "metadata": {},
   "outputs": [],
   "source": [
    "import yaml\n",
    "\n",
    "# Create the task and attach it to the agent\n",
    "task = client.tasks.create_or_update(\n",
    "    agent_id=AGENT_UUID,\n",
    "    task_id=TASK_UUID,\n",
    "    **yaml.safe_load(open(\"./task/full_task.yaml\")),\n",
    ")"
   ]
  },
  {
   "cell_type": "markdown",
   "metadata": {},
   "source": [
    "## Execute the task"
   ]
  },
  {
   "cell_type": "code",
   "execution_count": null,
   "metadata": {},
   "outputs": [],
   "source": [
    "execution = client.executions.create(\n",
    "    task_id=TASK_UUID,\n",
    "    input={\n",
    "        \"url\": \"https://docs.julep.ai\"\n",
    "    }\n",
    ")"
   ]
  },
  {
   "cell_type": "markdown",
   "metadata": {},
   "source": [
    "## Monitor an Execution\n"
   ]
  },
  {
   "cell_type": "code",
   "execution_count": null,
   "metadata": {},
   "outputs": [],
   "source": [
    "stream = client.executions.status.stream(execution_id=execution.id)\n",
    "\n",
    "for event in stream:\n",
    "    print(event.status)\n",
    "    print(\"--------------------------------\")"
   ]
  },
  {
   "cell_type": "code",
   "execution_count": 100,
   "metadata": {},
   "outputs": [],
   "source": [
    "import json\n",
    "transitions = client.executions.transitions.list(execution_id=execution.id).items\n",
    "\n",
    "for transition in transitions:\n",
    "    print(transition.type)\n",
    "    print(transition.current)\n",
    "    print(json.dumps(transition.output, indent=2))\n",
    "    print(\"--------------------------------\")"
   ]
  },
  {
   "cell_type": "code",
   "execution_count": null,
   "metadata": {},
   "outputs": [],
   "source": [
    "transition = client.executions.transitions.list(execution_id=execution.id).items[0]\n",
    "\n",
    "print(transition.output)"
   ]
  },
  {
   "cell_type": "markdown",
   "metadata": {},
   "source": [
    "## Check the number of documents present in the agent"
   ]
  },
  {
   "cell_type": "code",
   "execution_count": null,
   "metadata": {},
   "outputs": [],
   "source": [
    "# list all the documents in the agent\n",
    "all_docs = [*client.agents.docs.list(agent_id=AGENT_UUID)]\n",
    "print(f\"Total docs available in the agent: {len(all_docs)}\")\n",
    "\n",
    "\n",
    "for doc in all_docs:\n",
    "    print(doc.metadata.get(\"url\"))"
   ]
  },
  {
   "cell_type": "markdown",
   "metadata": {},
   "source": [
    "## Create a Julep Session"
   ]
  },
  {
   "cell_type": "code",
   "execution_count": 72,
   "metadata": {},
   "outputs": [],
   "source": [
    "session = client.sessions.create(\n",
    "    agent=AGENT_UUID,\n",
    "    # Options for RAG search\n",
    "    recall_options={\n",
    "        \"mode\": \"hybrid\", # Uses both vector and text searches\n",
    "        \"confidence\": 0.7, # Confidence threshold for the vector search\n",
    "        \"alpha\": 0.5, # Weight of priority of the vector search (0-1)\n",
    "        \"mmr_strength\": 0.7, # Maximal Marginal Relevance strength\n",
    "        \"limit\": 30, # Number of documents to return\n",
    "    },\n",
    ")"
   ]
  },
  {
   "cell_type": "markdown",
   "metadata": {},
   "source": [
    "## Chat with the agent"
   ]
  },
  {
   "cell_type": "code",
   "execution_count": 73,
   "metadata": {},
   "outputs": [],
   "source": [
    "def chat_with_agent(query: str) -> str:\n",
    "    response = client.sessions.chat(\n",
    "        session_id=session.id,\n",
    "        messages=[\n",
    "            {\n",
    "                \"role\": \"user\",\n",
    "                \"content\": query\n",
    "            },\n",
    "        ],\n",
    "        recall=True,\n",
    "        model=\"claude-3.7-sonnet\"\n",
    "    )\n",
    "    return response.choices[0].message.content, response.docs"
   ]
  },
  {
   "cell_type": "markdown",
   "metadata": {},
   "source": [
    "### Start with a question"
   ]
  },
  {
   "cell_type": "code",
   "execution_count": null,
   "metadata": {},
   "outputs": [],
   "source": [
    "agent_response, used_docs = chat_with_agent(\"How to create a session in julep python sdk?\")\n",
    "print(agent_response)"
   ]
  }
 ],
 "metadata": {
  "kernelspec": {
   "display_name": ".venv",
   "language": "python",
   "name": "python3"
  },
  "language_info": {
   "codemirror_mode": {
    "name": "ipython",
    "version": 3
   },
   "file_extension": ".py",
   "mimetype": "text/x-python",
   "name": "python",
   "nbconvert_exporter": "python",
   "pygments_lexer": "ipython3",
   "version": "3.13.3"
  }
 },
 "nbformat": 4,
 "nbformat_minor": 2
}
